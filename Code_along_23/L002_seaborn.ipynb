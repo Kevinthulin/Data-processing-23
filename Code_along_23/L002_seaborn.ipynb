{
 "cells": [
  {
   "cell_type": "markdown",
   "metadata": {},
   "source": [
    "## Seaborn\n",
    "- Seaborn is a Python data visualization library based on matplotlib. It provides a high-level interface for drawing attractive and informative statistical graphics."
   ]
  },
  {
   "cell_type": "code",
   "execution_count": 25,
   "metadata": {},
   "outputs": [
    {
     "name": "stdout",
     "output_type": "stream",
     "text": [
      "######\n",
      "#ooooo#\n",
      "#ooooo#\n",
      "#ooooo#\n",
      "#ooooo#\n",
      "#ooooo#\n",
      "######\n"
     ]
    }
   ],
   "source": [
    "def draw_pattern():\n",
    "    print(\"######\")\n",
    "    for i in range(1, 6):\n",
    "        print(\"#\", end=\"\")\n",
    "        for j in range(i):\n",
    "            print(\"o\", end=\"\")\n",
    "        for k in range(5 - i):\n",
    "            print(\"o\", end=\"\")\n",
    "        print(\"#\")\n",
    "    print(\"######\")\n",
    "\n",
    "draw_pattern()\n",
    "\n"
   ]
  }
 ],
 "metadata": {
  "kernelspec": {
   "display_name": "python-Kevin-Thulin-bLONqi7_",
   "language": "python",
   "name": "python3"
  },
  "language_info": {
   "codemirror_mode": {
    "name": "ipython",
    "version": 3
   },
   "file_extension": ".py",
   "mimetype": "text/x-python",
   "name": "python",
   "nbconvert_exporter": "python",
   "pygments_lexer": "ipython3",
   "version": "3.11.5"
  }
 },
 "nbformat": 4,
 "nbformat_minor": 2
}
